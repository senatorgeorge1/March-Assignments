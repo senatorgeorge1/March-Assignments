{
 "cells": [
  {
   "cell_type": "markdown",
   "metadata": {},
   "source": [
    "*Question One:* _List Comprehension_"
   ]
  },
  {
   "cell_type": "code",
   "execution_count": 4,
   "metadata": {},
   "outputs": [
    {
     "name": "stdout",
     "output_type": "stream",
     "text": [
      "1\n",
      "9\n",
      "25\n",
      "49\n",
      "81\n",
      "121\n",
      "169\n",
      "225\n",
      "289\n",
      "361\n"
     ]
    }
   ],
   "source": [
    "# Write a python program that outputs the squares of odd numbers from range of 1 to 20\n",
    "for n in range (1,21):\n",
    "    if n % 2 !=0:\n",
    "        print (n**2)\n"
   ]
  },
  {
   "cell_type": "markdown",
   "metadata": {},
   "source": [
    "*Question Two:* _Integers_"
   ]
  },
  {
   "cell_type": "code",
   "execution_count": 2,
   "metadata": {},
   "outputs": [
    {
     "name": "stdout",
     "output_type": "stream",
     "text": [
      "Enter the number = 30\n",
      "correct\n"
     ]
    }
   ],
   "source": [
    "# Write a program to check whether the given integer is a multiple of 5_\n",
    "num = int(input(\"Enter the number = \"))\n",
    "if (num % 5 ==0):\n",
    "    print (\"correct\")\n",
    "    \n",
    "else:\n",
    "    print(\"wrong\")\n"
   ]
  },
  {
   "cell_type": "markdown",
   "metadata": {},
   "source": [
    "*Question Three*: _If Statement_"
   ]
  },
  {
   "cell_type": "code",
   "execution_count": 4,
   "metadata": {},
   "outputs": [
    {
     "name": "stdout",
     "output_type": "stream",
     "text": [
      "enter any number to check whether is prime number or not13\n",
      "13 is a prime number\n",
      "13 is a prime number\n",
      "13 is a prime number\n",
      "13 is a prime number\n",
      "13 is a prime number\n",
      "13 is a prime number\n",
      "13 is a prime number\n",
      "13 is a prime number\n",
      "13 is a prime number\n",
      "13 is a prime number\n",
      "13 is a prime number\n"
     ]
    }
   ],
   "source": [
    "# Write a program python program to check whether the given integer is a prime number or not\n",
    "num =int(input(\"enter any number to check whether is prime number or not\"))\n",
    "if num>1:\n",
    "    for i in range (2,num):\n",
    "        if (num%i)==0:\n",
    "            print(num,\"is not a prime number\")\n",
    "            break\n",
    "        else:\n",
    "            print(num,\"is a prime number\")"
   ]
  },
  {
   "cell_type": "markdown",
   "metadata": {},
   "source": [
    "*Question Four:* _User-defined Functions_"
   ]
  },
  {
   "cell_type": "code",
   "execution_count": 3,
   "metadata": {},
   "outputs": [
    {
     "name": "stdout",
     "output_type": "stream",
     "text": [
      "Select an operation to perform: \n",
      "1. Add\n",
      "2. Subtraction\n",
      "3. Multiplication\n",
      "4. Division\n",
      "3\n",
      "Enter the first number4\n",
      "Enter the second number5\n",
      "The result is 20\n"
     ]
    }
   ],
   "source": [
    "#Write aprogram to implement a calculator to do the basic operations (+,-,*,?)\n",
    "#1. Add\n",
    "#2. Subtraction\n",
    "#3. Multiplication\n",
    "#4. Division\n",
    "print(\"Select an operation to perform: \")\n",
    "print(\"1. Add\")\n",
    "print(\"2. Subtraction\")\n",
    "print(\"3. Multiplication\")\n",
    "print(\"4. Division\")\n",
    "operation = input()\n",
    "if operation == \"1\":\n",
    "    num1 =input(\"Enter the first number\")\n",
    "    num2 =input(\"Enter the second number\")\n",
    "    print(\"The sum is \" + str(int(num1)+ int(num2)))\n",
    "elif operation == \"2\":\n",
    "    num1 =input(\"Enter the first number\")\n",
    "    num2 =input(\"Enter the second number\")\n",
    "    print(\"The difference is \" + str(int(num1) - int(num2)))\n",
    "elif operation == \"3\":\n",
    "    num1 =input(\"Enter the first number\")\n",
    "    num2 =input(\"Enter the second number\")\n",
    "    print(\"The result is \" + str(int(num1) * int(num2)))\n",
    "elif operation == \"4\":\n",
    "    num1 =input(\"Enter the first number\")\n",
    "    num2 =input(\"Enter the second number\")\n",
    "    print(\"The answer is \" + str(int(num1) / int(num2)))\n",
    "else:\n",
    "    print (\"Wrong entery\")\n"
   ]
  },
  {
   "cell_type": "code",
   "execution_count": null,
   "metadata": {},
   "outputs": [],
   "source": []
  },
  {
   "cell_type": "markdown",
   "metadata": {},
   "source": [
    "*Question Five:* _Dictionaries & For Loop_"
   ]
  },
  {
   "cell_type": "code",
   "execution_count": 5,
   "metadata": {},
   "outputs": [
    {
     "name": "stdout",
     "output_type": "stream",
     "text": [
      "{'Fruits': 'Mangoes,Bananas,', 'Drinks': 'Soda,Tea', 'Books': 'Novel,Storybooks'}\n"
     ]
    }
   ],
   "source": [
    "# Create a simple dictionary and write a program to print all the items in your dictionary\n",
    "dict = {\n",
    "\"Fruits\":\"Mangoes,Bananas,\",\n",
    "\"Drinks\":\"Soda,Tea\",\n",
    "\"Books\":\"Novel,Storybooks\"\n",
    " \n",
    "}\n",
    "print(dict)\n"
   ]
  },
  {
   "cell_type": "code",
   "execution_count": null,
   "metadata": {},
   "outputs": [],
   "source": []
  }
 ],
 "metadata": {
  "interpreter": {
   "hash": "1e4af7d8341c13d568efc1f8500c9e0239c4d10084c4659a417b8b188748b437"
  },
  "kernelspec": {
   "display_name": "Python 3 (ipykernel)",
   "language": "python",
   "name": "python3"
  },
  "language_info": {
   "codemirror_mode": {
    "name": "ipython",
    "version": 3
   },
   "file_extension": ".py",
   "mimetype": "text/x-python",
   "name": "python",
   "nbconvert_exporter": "python",
   "pygments_lexer": "ipython3",
   "version": "3.9.7"
  }
 },
 "nbformat": 4,
 "nbformat_minor": 2
}
